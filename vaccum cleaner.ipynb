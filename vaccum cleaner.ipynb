{
  "metadata": {
    "kernelspec": {
      "name": "python",
      "display_name": "Python (Pyodide)",
      "language": "python"
    },
    "language_info": {
      "codemirror_mode": {
        "name": "python",
        "version": 3
      },
      "file_extension": ".py",
      "mimetype": "text/x-python",
      "name": "python",
      "nbconvert_exporter": "python",
      "pygments_lexer": "ipython3",
      "version": "3.8"
    }
  },
  "nbformat_minor": 5,
  "nbformat": 4,
  "cells": [
    {
      "id": "58686ef9-7382-4d0f-a12c-0062aef70461",
      "cell_type": "code",
      "source": "import random\n\nSIZE = 5\n\ndef show_room(room, robot_x, robot_y):\n    print(\"\\nRoom (C = Clean, R = Robot, 0 = Dirty):\")\n    for i in range(SIZE):\n        for j in range(SIZE):\n            if i == robot_x and j == robot_y:\n                print(\"R\", end=\" \")\n            else:\n                print(room[i][j], end=\" \")\n        print()\n\ndef main():\n    # Initialize room\n    room = [['0' for _ in range(SIZE)] for _ in range(SIZE)]\n    \n    # Random starting position\n    x = random.randint(0, SIZE - 1)\n    y = random.randint(0, SIZE - 1)\n    \n    battery = 100\n    cleaned = 0\n\n    print(\"Welcome to RoboClean 2.0!\")\n    model = input(\"Give your vacuum a name: \")\n    print(f\"{model} is starting at position ({x},{y}) with full battery.\\n\")\n\n    while True:\n        print(f\"Position: ({x},{y}) | Battery: {battery}% | Cleaned: {cleaned}\")\n        print(\"Commands: 1-Clean  2-Up  3-Down  4-Left  5-Right  6-Map  7-Recharge  8-Exit\")\n\n        try:\n            cmd = int(input(\"Enter command: \"))\n        except ValueError:\n            print(\"Please enter a number between 1-8.\")\n            continue\n\n        if cmd == 1:  # Clean\n            if room[x][y] == '0':\n                room[x][y] = 'C'\n                cleaned += 1\n                battery -= 10\n                print(\"Cleaned the tile.\")\n            else:\n                print(\"Already clean.\")\n\n        elif cmd == 2 and x > 0:\n            x -= 1\n            battery -= 5\n        elif cmd == 3 and x < SIZE - 1:\n            x += 1\n            battery -= 5\n        elif cmd == 4 and y > 0:\n            y -= 1\n            battery -= 5\n        elif cmd == 5 and y < SIZE - 1:\n            y += 1\n            battery -= 5\n        elif cmd == 6:\n            show_room(room, x, y)\n        elif cmd == 7:\n            battery = 100\n            print(\"Battery fully recharged!\")\n        elif cmd == 8:\n            print(f\"Shutting down {model}. Total cleaned tiles: {cleaned}\")\n            break\n        else:\n            print(\"Invalid move or wall hit!\")\n\n        if battery <= 0:\n            print(\"Battery drained! Recharge to continue.\")\n            battery = 0\n\nif __name__ == \"__main__\":\n    main()\n",
      "metadata": {
        "trusted": true
      },
      "outputs": [
        {
          "name": "stdout",
          "output_type": "stream",
          "text": "Welcome to RoboClean 2.0!\n"
        },
        {
          "output_type": "stream",
          "name": "stdin",
          "text": "Give your vacuum a name:  buntty\n"
        },
        {
          "name": "stdout",
          "output_type": "stream",
          "text": "buntty is starting at position (4,4) with full battery.\n\nPosition: (4,4) | Battery: 100% | Cleaned: 0\nCommands: 1-Clean  2-Up  3-Down  4-Left  5-Right  6-Map  7-Recharge  8-Exit\n"
        },
        {
          "output_type": "stream",
          "name": "stdin",
          "text": "Enter command:  1\n"
        },
        {
          "name": "stdout",
          "output_type": "stream",
          "text": "Cleaned the tile.\nPosition: (4,4) | Battery: 90% | Cleaned: 1\nCommands: 1-Clean  2-Up  3-Down  4-Left  5-Right  6-Map  7-Recharge  8-Exit\n"
        },
        {
          "output_type": "stream",
          "name": "stdin",
          "text": "Enter command:  2\n"
        },
        {
          "name": "stdout",
          "output_type": "stream",
          "text": "Position: (3,4) | Battery: 85% | Cleaned: 1\nCommands: 1-Clean  2-Up  3-Down  4-Left  5-Right  6-Map  7-Recharge  8-Exit\n"
        },
        {
          "output_type": "stream",
          "name": "stdin",
          "text": "Enter command:  3\n"
        },
        {
          "name": "stdout",
          "output_type": "stream",
          "text": "Position: (4,4) | Battery: 80% | Cleaned: 1\nCommands: 1-Clean  2-Up  3-Down  4-Left  5-Right  6-Map  7-Recharge  8-Exit\n"
        },
        {
          "output_type": "stream",
          "name": "stdin",
          "text": "Enter command:  4\n"
        },
        {
          "name": "stdout",
          "output_type": "stream",
          "text": "Position: (4,3) | Battery: 75% | Cleaned: 1\nCommands: 1-Clean  2-Up  3-Down  4-Left  5-Right  6-Map  7-Recharge  8-Exit\n"
        },
        {
          "output_type": "stream",
          "name": "stdin",
          "text": "Enter command:  \n"
        },
        {
          "name": "stdout",
          "output_type": "stream",
          "text": "Please enter a number between 1-8.\nPosition: (4,3) | Battery: 75% | Cleaned: 1\nCommands: 1-Clean  2-Up  3-Down  4-Left  5-Right  6-Map  7-Recharge  8-Exit\n"
        },
        {
          "output_type": "stream",
          "name": "stdin",
          "text": "Enter command:  6\n"
        },
        {
          "name": "stdout",
          "output_type": "stream",
          "text": "\nRoom (C = Clean, R = Robot, 0 = Dirty):\n0 0 0 0 0 \n0 0 0 0 0 \n0 0 0 0 0 \n0 0 0 0 0 \n0 0 0 R C \nPosition: (4,3) | Battery: 75% | Cleaned: 1\nCommands: 1-Clean  2-Up  3-Down  4-Left  5-Right  6-Map  7-Recharge  8-Exit\n"
        },
        {
          "output_type": "stream",
          "name": "stdin",
          "text": "Enter command:  7\n"
        },
        {
          "name": "stdout",
          "output_type": "stream",
          "text": "Battery fully recharged!\nPosition: (4,3) | Battery: 100% | Cleaned: 1\nCommands: 1-Clean  2-Up  3-Down  4-Left  5-Right  6-Map  7-Recharge  8-Exit\n"
        },
        {
          "output_type": "stream",
          "name": "stdin",
          "text": "Enter command:  8\n"
        },
        {
          "name": "stdout",
          "output_type": "stream",
          "text": "Shutting down buntty. Total cleaned tiles: 1\n"
        }
      ],
      "execution_count": 1
    },
    {
      "id": "df2d6e0f-7b5d-4357-ae3b-ce6edeab3f49",
      "cell_type": "code",
      "source": "",
      "metadata": {
        "trusted": true
      },
      "outputs": [],
      "execution_count": null
    }
  ]
}