{
  "cells": [
    {
      "cell_type": "code",
      "execution_count": null,
      "id": "8c0ac12a-124e-4f17-8fba-d986d40e173a",
      "metadata": {
        "trusted": true
      },
      "outputs": [
        {
          "name": "stdout",
          "output_type": "stream",
          "text": [
            "Enter marks:  93\n"
          ]
        },
        {
          "name": "stdout",
          "output_type": "stream",
          "text": [
            "Grade A\n"
          ]
        }
      ],
      "source": [
        "marks = int(input(\"Enter marks: \"))\n",
        "\n",
        "if marks >= 90:\n",
        "    grade = \"A\"\n",
        "if marks >= 75 and marks < 90:\n",
        "    grade = \"B\"\n",
        "if marks >= 60 and marks < 75:\n",
        "    grade = \"C\"\n",
        "if marks >= 50 and marks < 60:\n",
        "    grade = \"D\"\n",
        "if marks < 50:\n",
        "    grade = \"F\"\n",
        "\n",
        "print(\"Grade\", grade)\n"
      ]
    }
  ],
  "metadata": {
    "kernelspec": {
      "display_name": "Python (Pyodide)",
      "language": "python",
      "name": "python"
    },
    "language_info": {
      "codemirror_mode": {
        "name": "python",
        "version": 3
      },
      "file_extension": ".py",
      "mimetype": "text/x-python",
      "name": "python",
      "nbconvert_exporter": "python",
      "pygments_lexer": "ipython3",
      "version": "3.8"
    }
  },
  "nbformat": 4,
  "nbformat_minor": 5
}
