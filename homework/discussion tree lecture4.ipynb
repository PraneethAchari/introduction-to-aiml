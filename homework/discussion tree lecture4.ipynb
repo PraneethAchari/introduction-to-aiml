{
  "cells": [
    {
      "cell_type": "code",
      "execution_count": 1,
      "id": "c868d814-0980-421b-8310-154382628f44",
      "metadata": {
        "trusted": true
      },
      "outputs": [
        {
          "name": "stdout",
          "output_type": "stream",
          "text": [
            "Checking possible splits...\n",
            "\n",
            "Split at 3 hours → Weighted Gini = 0.300\n",
            "Split at 5 hours → Weighted Gini = 0.000\n",
            "Split at 7 hours → Weighted Gini = 0.267\n",
            "Split at 9 hours → Weighted Gini = 0.400\n",
            "\n",
            "✅ Best split found by model:\n",
            "|--- Study Hours <= 5.00\n",
            "|   |--- class: 0\n",
            "|--- Study Hours >  5.00\n",
            "|   |--- class: 1\n",
            "\n"
          ]
        }
      ],
      "source": [
        "import numpy as np\n",
        "from sklearn.tree import DecisionTreeClassifier, export_text\n",
        "\n",
        "study_hours = np.array([2, 4, 6, 8, 10])\n",
        "results = np.array([0, 0, 1, 1, 1])\n",
        "\n",
        "def gini_impurity(values):\n",
        "    if len(values) == 0:\n",
        "        return 0\n",
        "    p_pass = np.mean(values == 1)\n",
        "    p_fail = 1 - p_pass\n",
        "    return 1 - (p_pass**2 + p_fail**2)\n",
        "\n",
        "split_points = [3, 5, 7, 9]\n",
        "print(\"Checking possible splits...\\n\")\n",
        "\n",
        "for split in split_points:\n",
        "    left_group = results[study_hours <= split]\n",
        "    right_group = results[study_hours > split]\n",
        "    \n",
        "    gini_left = gini_impurity(left_group)\n",
        "    gini_right = gini_impurity(right_group)\n",
        "    \n",
        "    weighted_gini = (len(left_group)/len(results))*gini_left + \\\n",
        "                    (len(right_group)/len(results))*gini_right\n",
        "    \n",
        "    print(f\"Split at {split} hours → Weighted Gini = {weighted_gini:.3f}\")\n",
        "\n",
        "model = DecisionTreeClassifier(criterion=\"gini\", max_depth=1)\n",
        "model.fit(study_hours.reshape(-1, 1), results)\n",
        "\n",
        "print(\"\\n✅ Best split found by model:\")\n",
        "print(export_text(model, feature_names=[\"Study Hours\"]))\n"
      ]
    },
    {
      "cell_type": "code",
      "execution_count": null,
      "id": "429d898a-d9e2-4dd3-a0af-47885916e25d",
      "metadata": {
        "trusted": true
      },
      "outputs": [],
      "source": []
    }
  ],
  "metadata": {
    "kernelspec": {
      "display_name": "Python (Pyodide)",
      "language": "python",
      "name": "python"
    },
    "language_info": {
      "codemirror_mode": {
        "name": "python",
        "version": 3
      },
      "file_extension": ".py",
      "mimetype": "text/x-python",
      "name": "python",
      "nbconvert_exporter": "python",
      "pygments_lexer": "ipython3",
      "version": "3.8"
    }
  },
  "nbformat": 4,
  "nbformat_minor": 5
}
