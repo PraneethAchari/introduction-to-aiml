{
  "metadata": {
    "kernelspec": {
      "name": "python",
      "display_name": "Python (Pyodide)",
      "language": "python"
    },
    "language_info": {
      "codemirror_mode": {
        "name": "python",
        "version": 3
      },
      "file_extension": ".py",
      "mimetype": "text/x-python",
      "name": "python",
      "nbconvert_exporter": "python",
      "pygments_lexer": "ipython3",
      "version": "3.8"
    }
  },
  "nbformat_minor": 5,
  "nbformat": 4,
  "cells": [
    {
      "id": "06922c1b-14dd-47cf-9691-33d11fb1684f",
      "cell_type": "code",
      "source": "import numpy as np\n\n# Input data\nX = np.array([1, 2, 3, 4, 5], dtype=float)\nY = np.array([5, 8, 11, 14, 17], dtype=float)\n\n\nslope = np.cov(X, Y, bias=True)[0][1] / np.var(X)\nintercept = np.mean(Y) - slope * np.mean(X)\n\nprint(f\"Slope (m): {slope:.2f}\")\nprint(f\"Intercept (c): {intercept:.2f}\")\n\n\nx_value = 6\npredicted_y = slope * x_value + intercept\nprint(f\"Prediction: When X = {x_value}, Y = {predicted_y:.2f}\")\n",
      "metadata": {
        "trusted": true
      },
      "outputs": [
        {
          "name": "stdout",
          "output_type": "stream",
          "text": "Slope (m): 3.00\nIntercept (c): 2.00\nPrediction: When X = 6, Y = 20.00\n"
        }
      ],
      "execution_count": 1
    },
    {
      "id": "b89dad70-ff87-4a59-8486-fcd76839de20",
      "cell_type": "code",
      "source": "",
      "metadata": {
        "trusted": true
      },
      "outputs": [],
      "execution_count": null
    },
    {
      "id": "2c9d26f5-28bf-4063-ba94-0ceb1d0e4ec1",
      "cell_type": "code",
      "source": "",
      "metadata": {
        "trusted": true
      },
      "outputs": [],
      "execution_count": null
    }
  ]
}