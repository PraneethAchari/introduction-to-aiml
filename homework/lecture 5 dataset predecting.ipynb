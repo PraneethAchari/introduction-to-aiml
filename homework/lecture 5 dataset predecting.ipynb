{
  "cells": [
    {
      "cell_type": "code",
      "execution_count": 1,
      "id": "60581fc1-13af-48ef-ba93-8603f4edccd1",
      "metadata": {
        "trusted": true
      },
      "outputs": [
        {
          "name": "stdout",
          "output_type": "stream",
          "text": [
            "Estimated coefficients (b0, b_area, b_rooms, b_distance, b_age):\n",
            "[38.56187291  0.05284281 11.97324415 -3.37792642 -0.10033445]\n",
            "\n",
            "Actual vs Predicted:\n",
            "Actual: 120.00  Predicted: 120.00\n",
            "Actual: 150.00  Predicted: 150.00\n",
            "Actual: 130.00  Predicted: 130.00\n",
            "Actual: 180.00  Predicted: 180.00\n",
            "Actual: 170.00  Predicted: 170.00\n",
            "\n",
            "R^2 (training): 1.000000\n",
            "\n",
            "Predicted price for new house: 147.83 Lacs\n"
          ]
        }
      ],
      "source": [
        "# Pure-Numpy Multiple Linear Regression (no sklearn required)\n",
        "\n",
        "import numpy as np\n",
        "\n",
        "# Data\n",
        "Area     = np.array([1200, 1400, 1600, 1700, 1850], dtype=float)\n",
        "Rooms    = np.array([3, 4, 3, 5, 4], dtype=float)\n",
        "Distance = np.array([5, 3, 8, 2, 4], dtype=float)\n",
        "Age      = np.array([10, 3, 20, 15, 7], dtype=float)\n",
        "Price    = np.array([120, 150, 130, 180, 170], dtype=float)\n",
        "\n",
        "# Design matrix X with intercept column\n",
        "X = np.column_stack([np.ones(Area.shape[0]), Area, Rooms, Distance, Age])\n",
        "y = Price.reshape(-1, 1)\n",
        "\n",
        "# Solve for beta using least squares (stable)\n",
        "beta, residuals, rank, s = np.linalg.lstsq(X, y, rcond=None)\n",
        "\n",
        "# Flatten beta\n",
        "beta = beta.flatten()\n",
        "\n",
        "print(\"Estimated coefficients (b0, b_area, b_rooms, b_distance, b_age):\")\n",
        "print(beta)\n",
        "\n",
        "# Predictions on training data\n",
        "y_pred = X.dot(beta)\n",
        "print(\"\\nActual vs Predicted:\")\n",
        "for actual, pred in zip(Price, y_pred):\n",
        "    print(f\"Actual: {actual:.2f}  Predicted: {pred:.2f}\")\n",
        "\n",
        "# R^2 calculation\n",
        "ss_res = np.sum((Price - y_pred) ** 2)\n",
        "ss_tot = np.sum((Price - Price.mean()) ** 2)\n",
        "r2 = 1 - (ss_res / ss_tot)\n",
        "print(f\"\\nR^2 (training): {r2:.6f}\")\n",
        "\n",
        "# Predict for a new house example:\n",
        "new_house = [1, 1500.0, 4.0, 5.0, 10.0]   # include 1 for intercept\n",
        "pred_new = np.dot(new_house, beta)\n",
        "print(f\"\\nPredicted price for new house: {pred_new:.2f} Lacs\")\n"
      ]
    },
    {
      "cell_type": "code",
      "execution_count": null,
      "id": "6a581057-3f9b-4453-a30d-0770ecea8c99",
      "metadata": {
        "trusted": true
      },
      "outputs": [],
      "source": []
    }
  ],
  "metadata": {
    "kernelspec": {
      "display_name": "Python (Pyodide)",
      "language": "python",
      "name": "python"
    },
    "language_info": {
      "codemirror_mode": {
        "name": "python",
        "version": 3
      },
      "file_extension": ".py",
      "mimetype": "text/x-python",
      "name": "python",
      "nbconvert_exporter": "python",
      "pygments_lexer": "ipython3",
      "version": "3.8"
    }
  },
  "nbformat": 4,
  "nbformat_minor": 5
}
