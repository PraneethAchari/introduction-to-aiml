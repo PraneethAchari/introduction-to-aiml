{
  "cells": [
    {
      "cell_type": "code",
      "execution_count": null,
      "id": "71ef29d9-0c3e-44b8-ac25-091a40fbdadb",
      "metadata": {
        "trusted": true
      },
      "outputs": [],
      "source": []
    },
    {
      "cell_type": "code",
      "execution_count": 1,
      "id": "99e28266-5978-464f-955d-6e35d20de1bf",
      "metadata": {
        "trusted": true
      },
      "outputs": [
        {
          "name": "stdout",
          "output_type": "stream",
          "text": [
            "Gini impurity for different splits:\n",
            "\n",
            "If we split at 3 hours → Gini impurity = 0.300\n",
            "If we split at 5 hours → Gini impurity = 0.000\n",
            "If we split at 7 hours → Gini impurity = 0.267\n",
            "If we split at 9 hours → Gini impurity = 0.400\n",
            "\n",
            "Best split is at 5 hours (lowest Gini = 0.000)\n",
            "Meaning: Students who study ≤ 5 hours → Fail, and > 5 hours → Pass.\n",
            "\n",
            "--- Checking with sklearn ---\n",
            "|--- Study Hours <= 5.00\n",
            "|   |--- class: 0\n",
            "|--- Study Hours >  5.00\n",
            "|   |--- class: 1\n",
            "\n"
          ]
        }
      ],
      "source": [
        "# --------------------------------------------\n",
        "# Decision Tree (Manual Implementation)\n",
        "# --------------------------------------------\n",
        "\n",
        "data = [\n",
        "    (2, 0),\n",
        "    (4, 0),\n",
        "    (6, 1),\n",
        "    (8, 1),\n",
        "    (10, 1)\n",
        "]\n",
        "\n",
        "# Function to calculate Gini impurity\n",
        "def calculate_gini(groups):\n",
        "    total = sum(len(group) for group in groups)  # total samples\n",
        "    gini_value = 0.0\n",
        "\n",
        "    # Go through each group (left & right)\n",
        "    for group in groups:\n",
        "        size = len(group)\n",
        "        if size == 0:\n",
        "            continue  # skip empty groups\n",
        "\n",
        "        # Count how many 0s (fail) and 1s (pass)\n",
        "        score = 0.0\n",
        "        for class_value in [0, 1]:\n",
        "            proportion = [row[1] for row in group].count(class_value) / size\n",
        "            score += proportion ** 2\n",
        "\n",
        "        # Add weighted Gini impurity\n",
        "        gini_value += (1 - score) * (size / total)\n",
        "\n",
        "    return gini_value\n",
        "\n",
        "\n",
        "# Try all possible split points\n",
        "split_points = [3, 5, 7, 9]\n",
        "print(\"Gini impurity for different splits:\\n\")\n",
        "\n",
        "for split in split_points:\n",
        "    left_group = [row for row in data if row[0] <= split]\n",
        "    right_group = [row for row in data if row[0] > split]\n",
        "    gini_val = calculate_gini([left_group, right_group])\n",
        "    print(f\"If we split at {split} hours → Gini impurity = {gini_val:.3f}\")\n",
        "\n",
        "print(\"\\nBest split is at 5 hours (lowest Gini = 0.000)\")\n",
        "print(\"Meaning: Students who study ≤ 5 hours → Fail, and > 5 hours → Pass.\")\n",
        "\n",
        "\n",
        "# --------------------------------------------\n",
        "# Optional: Cross-check using sklearn\n",
        "# --------------------------------------------\n",
        "print(\"\\n--- Checking with sklearn ---\")\n",
        "\n",
        "from sklearn.tree import DecisionTreeClassifier, export_text\n",
        "import numpy as np\n",
        "\n",
        "# Prepare data for sklearn\n",
        "X = np.array([[2], [4], [6], [8], [10]])\n",
        "y = np.array([0, 0, 1, 1, 1])\n",
        "\n",
        "# Create and train a decision tree (depth = 1 for single split)\n",
        "tree = DecisionTreeClassifier(criterion='gini', max_depth=1)\n",
        "tree.fit(X, y)\n",
        "\n",
        "# Show the resulting tree in text form\n",
        "print(export_text(tree, feature_names=[\"Study Hours\"]))\n"
      ]
    },
    {
      "cell_type": "code",
      "execution_count": null,
      "id": "cb8b24c2-8aae-4782-8272-9e41d0e22365",
      "metadata": {
        "trusted": true
      },
      "outputs": [],
      "source": []
    }
  ],
  "metadata": {
    "kernelspec": {
      "display_name": "Python (Pyodide)",
      "language": "python",
      "name": "python"
    },
    "language_info": {
      "codemirror_mode": {
        "name": "python",
        "version": 3
      },
      "file_extension": ".py",
      "mimetype": "text/x-python",
      "name": "python",
      "nbconvert_exporter": "python",
      "pygments_lexer": "ipython3",
      "version": "3.8"
    }
  },
  "nbformat": 4,
  "nbformat_minor": 5
}
